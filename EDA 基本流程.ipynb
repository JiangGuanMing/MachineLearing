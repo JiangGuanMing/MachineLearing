{
 "cells": [
  {
   "cell_type": "code",
   "execution_count": null,
   "metadata": {},
   "outputs": [],
   "source": [
    "# 針對房屋估價做一個詳盡的流程\n",
    "# Zillow EDA On Missing Values & Multicollinearity"
   ]
  },
  {
   "cell_type": "markdown",
   "metadata": {},
   "source": [
    "1. Business understanding：釐清商業目標及需求，訂定計畫目標，規劃如何從現狀到達目標的步驟。\n",
    "2. Data understanding：有哪些資料? 從哪裡蒐集? 資料的品質是否達標?\n",
    "3. Data preparation：這一階段的工作通常會佔整個專案90%的時間，資料經過篩選、清理(Clean)、統一格式(Format)、缺失值(Missing value)處理、轉換(Transform)，才會變成可用的資料集。\n",
    "4. Modeling：決定哪一種或多種模型? 如何訂定測試場景，以驗證結果? 選用哪一種模型工具? 是否滿足所有利害關係人(Stakeholders)的需求?\n",
    "5. Evaluation：評估是否符合商業目標? 資料挖掘的過程可能會產生新的商業需求，必須再回第一步驟，反覆實驗，最後再決定是否可以佈署到正式環境?\n",
    "6. Deployment：佈署前、後，我們都會準備一個報告，說明整個專案過程獲得的成果，包括知識、如何應用以及專案獲得的經驗(Lessons learned)。\n",
    "** 以上內容節錄自『Data Mining Processes』I LOve sister."
 
   ]
  },
  {
   "cell_type": "markdown",
   "metadata": {},
   "source": [
    "特徵工程：降維分為兩部分（一）特徵選取(Feature selection)（二）特徵萃取(Feature extraction)。例：\n",
    "1. 語音：把頻率轉換成MFCC特徵向量，請參閱『Day 25：自動語音識別』。\n",
    "2. 圖像：CNN將像素透過卷積轉換，將原始資料轉換成易於分析的特徵，請參閱『Day 06：卷積神經網路』。\n",
    "3. 文字：自然語言處理時，我們也將單字轉為詞向量，請參閱『Day 13：自然語言處理』，再經過 t-sne 可轉為二維，顯示詞向量間的關係。\n",
    "\n",
    "降維熱門的算法有： PCA , t-SNE"
   ]
  },
  {
   "cell_type": "markdown",
   "metadata": {},
   "source": [
    "# EDA 流程"
   ]
  },
  {
   "cell_type": "markdown",
   "metadata": {},
   "source": [
    "拿到資料首先要處理的流程：\n",
    "1. 遺失值分析\n",
    "2. 相關性分析\n",
    "3. 找出貢獻最大的特徵\n",
    "4. 多元共線性分析\n",
    "5. 單變量分析\n",
    "6. 二元變量分析"
   ]
  },
  {
   "cell_type": "code",
   "execution_count": 1,
   "metadata": {},
   "outputs": [
    {
     "ename": "ImportError",
     "evalue": "No module named 'missingno'",
     "output_type": "error",
     "traceback": [
      "\u001b[0;31m---------------------------------------------------------------------------\u001b[0m",
      "\u001b[0;31mImportError\u001b[0m                               Traceback (most recent call last)",
      "\u001b[0;32m<ipython-input-1-77896f7c226f>\u001b[0m in \u001b[0;36m<module>\u001b[0;34m()\u001b[0m\n\u001b[1;32m      5\u001b[0m \u001b[0;32mimport\u001b[0m \u001b[0mseaborn\u001b[0m \u001b[0;32mas\u001b[0m \u001b[0msn\u001b[0m\u001b[0;34m\u001b[0m\u001b[0m\n\u001b[1;32m      6\u001b[0m \u001b[0;32mfrom\u001b[0m \u001b[0mscipy\u001b[0m \u001b[0;32mimport\u001b[0m \u001b[0mstats\u001b[0m\u001b[0;34m\u001b[0m\u001b[0m\n\u001b[0;32m----> 7\u001b[0;31m \u001b[0;32mimport\u001b[0m \u001b[0mmissingno\u001b[0m \u001b[0;32mas\u001b[0m \u001b[0mmsno\u001b[0m\u001b[0;34m\u001b[0m\u001b[0m\n\u001b[0m\u001b[1;32m      8\u001b[0m \u001b[0;32mfrom\u001b[0m \u001b[0mdatetime\u001b[0m \u001b[0;32mimport\u001b[0m \u001b[0mdatetime\u001b[0m\u001b[0;34m\u001b[0m\u001b[0m\n\u001b[1;32m      9\u001b[0m \u001b[0;32mimport\u001b[0m \u001b[0mmatplotlib\u001b[0m\u001b[0;34m\u001b[0m\u001b[0m\n",
      "\u001b[0;31mImportError\u001b[0m: No module named 'missingno'"
     ]
    }
   ],
   "source": [
    "import pylab\n",
    "import calendar\n",
    "import numpy as np\n",
    "import pandas as pd\n",
    "import seaborn as sn\n",
    "from scipy import stats\n",
    "import missingno as msno\n",
    "from datetime import datetime\n",
    "import matplotlib\n",
    "import matplotlib.pyplot as plt\n",
    "from scipy.stats import kendalltau\n",
    "import warnings\n",
    "matplotlib.style.use('ggplot')\n",
    "pd.options.mode.chained_assignment = None\n",
    "warnings.filterwarnings(\"ignore\")\n",
    "%matplotlib inline"
   ]
  },
  {
   "cell_type": "code",
   "execution_count": 2,
   "metadata": {},
   "outputs": [],
   "source": [
    "a1=4"
   ]
  },
  {
   "cell_type": "code",
   "execution_count": 3,
   "metadata": {},
   "outputs": [
    {
     "data": {
      "text/plain": [
       "4"
      ]
     },
     "execution_count": 3,
     "metadata": {},
     "output_type": "execute_result"
    }
   ],
   "source": [
    "a1"
   ]
  },
  {
   "cell_type": "code",
   "execution_count": 4,
   "metadata": {},
   "outputs": [
    {
     "ename": "SyntaxError",
     "evalue": "two starred expressions in assignment (<ipython-input-4-cc85cecff39f>, line 1)",
     "output_type": "error",
     "traceback": [
      "\u001b[0;36m  File \u001b[0;32m\"<ipython-input-4-cc85cecff39f>\"\u001b[0;36m, line \u001b[0;32m1\u001b[0m\n\u001b[0;31m    a1, *_, a2, *_ = [0,1,2,3,4]\u001b[0m\n\u001b[0m                                ^\u001b[0m\n\u001b[0;31mSyntaxError\u001b[0m\u001b[0;31m:\u001b[0m two starred expressions in assignment\n"
     ]
    }
   ],
   "source": [
    "a1, *_, a2, *_ = [0,1,2,3,4]"
   ]
  },
  {
   "cell_type": "code",
   "execution_count": 5,
   "metadata": {},
   "outputs": [],
   "source": [
    "name, *_, (*_, year) = ['John',50,123,45,(12,18,2012)]"
   ]
  },
  {
   "cell_type": "code",
   "execution_count": 7,
   "metadata": {},
   "outputs": [
    {
     "data": {
      "text/plain": [
       "('John', 2012)"
      ]
     },
     "execution_count": 7,
     "metadata": {},
     "output_type": "execute_result"
    }
   ],
   "source": [
    "name, year"
   ]
  },
  {
   "cell_type": "code",
   "execution_count": null,
   "metadata": {},
   "outputs": [],
   "source": []
  }
 ],
 "metadata": {
  "kernelspec": {
   "display_name": "Python 3",
   "language": "python",
   "name": "python3"
  },
  "language_info": {
   "codemirror_mode": {
    "name": "ipython",
    "version": 3
   },
   "file_extension": ".py",
   "mimetype": "text/x-python",
   "name": "python",
   "nbconvert_exporter": "python",
   "pygments_lexer": "ipython3",
   "version": "3.5.4"
  }
 },
 "nbformat": 4,
 "nbformat_minor": 2
}
